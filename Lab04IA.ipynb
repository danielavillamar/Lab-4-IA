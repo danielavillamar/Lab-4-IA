{
 "cells": [
  {
   "cell_type": "markdown",
   "id": "fc577208-3e63-476f-a576-9367e2bb0eea",
   "metadata": {},
   "source": [
    "# LABORATORIO 04\n",
    "### Redes Neuronales \n",
    "\n",
    "Mirka Monzón   \n",
    "Daniela Villamar   \n",
    "Alexa Bravo      \n",
    "Abril 09, 2022 "
   ]
  },
  {
   "cell_type": "code",
   "execution_count": 1,
   "id": "4ea9f597-515e-4a11-82fc-8afb684a2f12",
   "metadata": {},
   "outputs": [],
   "source": [
    "#importamos las librerías necesarias para trabajar\n",
    "import numpy as np\n",
    "from matplotlib import pyplot as plt\n",
    "from sklearn.datasets import make_classification"
   ]
  },
  {
   "cell_type": "code",
   "execution_count": 2,
   "id": "b87f1c5e-1adf-4989-8752-31fd7a2b3221",
   "metadata": {},
   "outputs": [],
   "source": [
    "#Definimos los parametros\n",
    "n_features = 3\n",
    "n_samples = 50\n",
    "n_informative = 3\n",
    "n_redundant = 0\n",
    "n_classes = 2"
   ]
  },
  {
   "cell_type": "code",
   "execution_count": 3,
   "id": "0feb6ebc-c3e7-4332-a508-194e354fc499",
   "metadata": {},
   "outputs": [],
   "source": [
    "# Definimos los valores del input \n",
    "inputs = make_classification(n_samples = n_samples, n_features = n_features, n_informative = n_informative, n_redundant = n_redundant, n_classes = n_classes, random_state = 0)"
   ]
  },
  {
   "cell_type": "code",
   "execution_count": 4,
   "id": "3c6fc1a4-3bfa-4a45-b3ed-6d61ae3d2041",
   "metadata": {},
   "outputs": [],
   "source": [
    "# Definimos los valores del input \n",
    "outputs = make_classification(n_samples = n_samples, n_features = n_features, n_informative = n_informative, n_redundant = n_redundant, n_classes = n_classes, random_state = 0)"
   ]
  },
  {
   "cell_type": "code",
   "execution_count": 5,
   "id": "57c26012-1aae-4228-ba0e-c13e72fb6c1d",
   "metadata": {},
   "outputs": [],
   "source": [
    "#Referencia del codigo: https://towardsdatascience.com/inroduction-to-neural-networks-in-python-7e0b422e6c24\n",
    "\n",
    "#Creamos la clase de la red neuronal \n",
    "class NeuralNetwork:\n",
    "    \n",
    "    #Inicializamos las variables de la red neuronal. \n",
    "    def __init__(self, input, output, bias = 0, n_layers = 1):\n",
    "        self.inputs  = inputs\n",
    "        self.outputs = outputs\n",
    "        self.weights = np.random.random_sample(size = (input.shape[1], n_layers)) \n",
    "        self.bias = bias\n",
    "        self.error_history = []\n",
    "        self.epoch_list = []\n",
    "    \n",
    "    \n",
    "    #Función de activación ==> S(x) = 1/1+e^(-x)\n",
    "    def sigmoid(self, x, deriv=False):\n",
    "        if deriv == True:\n",
    "            return x * (1 - x)\n",
    "        return 1 / (1 + np.exp(-x))\n",
    "    \n",
    "    \n",
    "    #Función para que los datos fluyan a traves de la red neuronal.\n",
    "    def feedforward(self):\n",
    "        self.hidden = sigmoid(np.dot(self.input, self.weights) + self.bias) \n",
    "\n",
    "        \n",
    "    #Función que actualiza el weight de la red neuronal. \n",
    "    def backpropagation(self):\n",
    "        error = self.output - self.hidden\n",
    "        delta = error * sigmoid(self.hidden, deriv=True)\n",
    "        self.weights += np.dot(self.input.T, delta)\n",
    "\n",
    "\n",
    "    #Función para entrenar la red neuronal\n",
    "    def train(self, epochs = 500):\n",
    "        for epoch in range(epochs):\n",
    "            #Los datos fluyen hacia adelante y producen un output\n",
    "            self.feed_forward()\n",
    "            \n",
    "            #Los datos vuelven a la red para corregir segun indica el output\n",
    "            self.backpropagation()    \n",
    "            \n",
    "            #Lleva el registro de los errores\n",
    "            self.error_history.append(np.average(np.abs(self.error)))\n",
    "            self.epoch_list.append(epoch)\n",
    "\n",
    "            \n",
    "    #Función para predecir outputs\n",
    "    def predict(self, data):\n",
    "        prediction = self.sigmoid(np.dot(new_input, self.weights))\n",
    "        return prediction"
   ]
  },
  {
   "cell_type": "code",
   "execution_count": 6,
   "id": "ed7b0b11-9d6d-42cd-89a2-446e72ee2c2c",
   "metadata": {},
   "outputs": [],
   "source": [
    "#Creamos la Red Neuronal \n",
    "MNN = NN_Model(input, output, bias = 0.2, n_layers = 50)\n",
    "MNN.train(epochs = 15)"
   ]
  },
  {
   "cell_type": "code",
   "execution_count": 10,
   "id": "81d3131b-246e-4ddd-b4b8-9fe74709b7af",
   "metadata": {},
   "outputs": [
    {
     "data": {
      "image/png": "[encoded data removed]",
      "text/plain": [
       "<Figure size 1080x360 with 1 Axes>"
      ]
     },
     "metadata": {
      "needs_background": "light"
     },
     "output_type": "display_data"
    }
   ],
   "source": [
    "#Graficamos los errores\n",
    "epochs = list(range(len(MNN.error_history)))\n",
    "plt.figure(figsize = (15, 5))\n",
    "plt.plot(epochs, Model.error_history)\n",
    "plt.title(\"Error durante la duración del Entrenamiento\")\n",
    "plt.xlabel('Duración')\n",
    "plt.ylabel('Error')\n",
    "plt.show()"
   ]
  },
  {
   "cell_type": "code",
   "execution_count": 8,
   "id": "083cbe99-9274-461d-8a88-cf4947806d44",
   "metadata": {},
   "outputs": [
    {
     "data": {
      "text/plain": [
       "0.7073647018727742"
      ]
     },
     "execution_count": 8,
     "metadata": {},
     "output_type": "execute_result"
    }
   ],
   "source": [
    "#Metricas de desempeño \n",
    "MD = np.array([[1, 0, 1]])\n",
    "des = MNN.predict(MD)\n",
    "des[0:,[49]][0][0]"
   ]
  }
 ],
 "metadata": {
  "kernelspec": {
   "display_name": "Python 3",
   "language": "python",
   "name": "python3"
  },
  "language_info": {
   "codemirror_mode": {
    "name": "ipython",
    "version": 3
   },
   "file_extension": ".py",
   "mimetype": "text/x-python",
   "name": "python",
   "nbconvert_exporter": "python",
   "pygments_lexer": "ipython3",
   "version": "3.8.8"
  }
 },
 "nbformat": 4,
 "nbformat_minor": 5
}
